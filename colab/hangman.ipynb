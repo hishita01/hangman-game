{
  "cells": [
    {
      "cell_type": "markdown",
      "metadata": {
        "id": "view-in-github",
        "colab_type": "text"
      },
      "source": [
        "<a href=\"https://colab.research.google.com/github/hishita01/hangman-game/blob/main/colab/hangman.ipynb\" target=\"_parent\"><img src=\"https://colab.research.google.com/assets/colab-badge.svg\" alt=\"Open In Colab\"/></a>"
      ]
    },
    {
      "cell_type": "code",
      "execution_count": 1,
      "metadata": {
        "colab": {
          "base_uri": "https://localhost:8080/"
        },
        "id": "7kwCSmxRVUuK",
        "outputId": "b91729e3-ddbd-4d95-a596-4ffd3dec32c2"
      },
      "outputs": [
        {
          "output_type": "stream",
          "name": "stdout",
          "text": [
            "\n",
            "Welcome to Game\n",
            "\n",
            "Enter your name:  Hishita\n",
            "Hello, Hishita!! Good Luck.\n",
            "\n",
            "\n",
            "Lets start the Game\n"
          ]
        }
      ],
      "source": [
        "import random\n",
        "import time\n",
        "\n",
        "print(\"\\nWelcome to Game\\n\")\n",
        "name= input(\"Enter your name:  \")\n",
        "print(\"Hello, \"+name+\"!! Good Luck.\\n\")\n",
        "time.sleep(2)\n",
        "print(\"\\nLets start the Game\")\n",
        "time.sleep(3)"
      ]
    },
    {
      "cell_type": "code",
      "execution_count": 2,
      "metadata": {
        "id": "VicEAnjuV4af"
      },
      "outputs": [],
      "source": [
        "def main():\n",
        "  global count \n",
        "  global display\n",
        "  global word\n",
        "  global already_guessed\n",
        "  global length\n",
        "  global play_game\n",
        "  words_to_guess= [\"january\",\"anxiety\",\"black\",\"beagle\",\"frown\",\"angry\"]\n",
        "  word=random.choice(words_to_guess)\n",
        "  length=len(word)\n",
        "  count=0\n",
        "  display= '_'* length\n",
        "  already_guessed= []\n",
        "  play_game= \"\"\n",
        "\n",
        "\n"
      ]
    },
    {
      "cell_type": "code",
      "execution_count": 3,
      "metadata": {
        "id": "8JMQ3-eS_IL8"
      },
      "outputs": [],
      "source": [
        "def play_loop():\n",
        "  global play_game\n",
        "  play_game= input(\"Do you want to play? y=yes, n=no\")\n",
        "  while play_game not in [\"y\",\"Y\",\"n\",\"N\"]:\n",
        "    play_game= input(\"Do you want to play game again? y=yes, n=no\")\n",
        "\n",
        "  if play_game == \"y\":\n",
        "     main()\n",
        "  elif play_game ==\"n\":\n",
        "      print(\"Thank you for playing the game!!! \")\n",
        "      exit()\n"
      ]
    },
    {
      "cell_type": "code",
      "execution_count": 4,
      "metadata": {
        "colab": {
          "base_uri": "https://localhost:8080/"
        },
        "id": "oB2iS6B8Dguh",
        "outputId": "1925925b-1bd5-4c37-bad2-014d21f559a0"
      },
      "outputs": [
        {
          "output_type": "stream",
          "name": "stdout",
          "text": [
            "Guess this word: _______Enter your guess \n",
            "a\n",
            "a______\n",
            "\n",
            "Guess this word: a______Enter your guess \n",
            "n\n",
            "an_____\n",
            "\n",
            "Guess this word: an_____Enter your guess \n",
            "x\n",
            "anx____\n",
            "\n",
            "Guess this word: anx____Enter your guess \n",
            "i\n",
            "anxi___\n",
            "\n",
            "Guess this word: anxi___Enter your guess \n",
            "e\n",
            "anxie__\n",
            "\n",
            "Guess this word: anxie__Enter your guess \n",
            "t\n",
            "anxiet_\n",
            "\n",
            "Guess this word: anxiet_Enter your guess \n",
            "y\n",
            "anxiety\n",
            "\n",
            "You have guessed the word correctly \n",
            "Do you want to play? y=yes, n=non\n",
            "Thank you for playing the game!!! \n"
          ]
        }
      ],
      "source": [
        "def hangman():\n",
        "    global count\n",
        "    global display\n",
        "    global word\n",
        "    global already_guessed\n",
        "    global play_game\n",
        "    limit=5\n",
        "    guess=input(\"Guess this word: \"+display+\"Enter your guess \\n\")\n",
        "    guess=guess.strip()\n",
        "    if len(guess.strip())==0 or len(guess.strip())>=2 or guess<=\"9\":\n",
        "      print(\"Invalid input, Try a letter\\n\")\n",
        "      hangman()\n",
        "    elif guess in word:\n",
        "      already_guessed.extend([guess])\n",
        "      index=word.find(guess)\n",
        "      word=word[:index]+\"_\"+word[index+1:]\n",
        "      display=display[:index]+guess+display[index+1:]\n",
        "      print(display+\"\\n\")\n",
        "\n",
        "    elif guess in already_guessed:\n",
        "      print(\"Try another letter.\\n\")\n",
        "\n",
        "    else:\n",
        "      count+=1\n",
        "\n",
        "      if count==1:\n",
        "       time.sleep(1)\n",
        "       print(\"   _____ \\n\"\n",
        "             \"  |      \\n\"\n",
        "             \"  |      \\n\"\n",
        "             \"  |      \\n\"\n",
        "             \"  |      \\n\"\n",
        "             \"  |      \\n\"\n",
        "             \"  |      \\n\"\n",
        "             \"__|__\\n\") \n",
        "       print(\"Wrong guess \"+str(limit-count)+\" are left \\n\")\n",
        "\n",
        "      elif count==2:\n",
        "         time.sleep(1)\n",
        "         print(\"   _____ \\n\"\n",
        "                \"  |      \\n\"\n",
        "                \"  |      \\n\"\n",
        "                \"  |      \\n\"\n",
        "                \"  |      \\n\"\n",
        "                \"  |      \\n\"\n",
        "                \"  |      \\n\"\n",
        "                \"__|__\\n\")\n",
        "         print(\"Wrong guess \"+str(limit-count)+\" are left \\n\")\n",
        "\n",
        "      elif count==3:\n",
        "        time.sleep(1)\n",
        "        print(\"   _____ \\n\"\n",
        "                \"  |      \\n\"\n",
        "                \"  |      \\n\"\n",
        "                \"  |      \\n\"\n",
        "                \"  |      \\n\"\n",
        "                \"  |      \\n\"\n",
        "                \"  |      \\n\"\n",
        "                \"__|__\\n\")\n",
        "        print(\"Wrong guess \"+str(limit-count)+\" are left \\n\")\n",
        "\n",
        "      elif count==4:\n",
        "          time.sleep(1)\n",
        "          print(\"   _____ \\n\"\n",
        "                 \"  |      \\n\"\n",
        "                 \"  |      \\n\"\n",
        "                 \"  |      \\n\"\n",
        "                 \"  |      \\n\"\n",
        "                 \"  |      \\n\"\n",
        "                 \"  |      \\n\"\n",
        "                 \"__|__\\n\")\n",
        "          print(\"Wrong guess \"+str(limit-count)+\" are left \\n\")\n",
        "\n",
        "      elif count==5:\n",
        "       time.sleep(1)\n",
        "       print(\"   _____ \\n\"\n",
        "                 \"  |   ___|\\n\"\n",
        "                 \"  |    | |\\n\"\n",
        "                 \"  |    | |\\n\"\n",
        "                 \"  |    O |\\n\"\n",
        "                 \"  |   /|\\ |\\n\"\n",
        "                 \"  |    |  |\\n\"\n",
        "                 \"__|__ / \\ \\n\")\n",
        "       print(\"You guessed the wrong word\"+\"You have been hanged\\n\")\n",
        "       print(\"The word was\",already_guessed,word)\n",
        "       play_loop()\n",
        "\n",
        "    if word==\"_\"*length:\n",
        "      print(\"You have guessed the word correctly \")\n",
        "      play_loop()\n",
        "\n",
        "    elif count!=limit:\n",
        "      hangman()\n",
        "main()\n",
        "hangman()\n",
        "\n",
        "\n",
        "               \n",
        "\n"
      ]
    },
    {
      "cell_type": "code",
      "execution_count": null,
      "metadata": {
        "id": "OspoAoxUb-2j"
      },
      "outputs": [],
      "source": []
    },
    {
      "cell_type": "code",
      "execution_count": null,
      "metadata": {
        "id": "xXBOXFWby4Id"
      },
      "outputs": [],
      "source": []
    }
  ],
  "metadata": {
    "colab": {
      "provenance": [],
      "authorship_tag": "ABX9TyPWdToq++Y8VpRBlXaXgy3p",
      "include_colab_link": true
    },
    "kernelspec": {
      "display_name": "Python 3",
      "name": "python3"
    },
    "language_info": {
      "name": "python"
    }
  },
  "nbformat": 4,
  "nbformat_minor": 0
}