{
  "cells": [
    {
      "cell_type": "markdown",
      "metadata": {
        "id": "view-in-github",
        "colab_type": "text"
      },
      "source": [
        "<a href=\"https://colab.research.google.com/github/hishita01/hangman-game/blob/main/colab/hangman.ipynb\" target=\"_parent\"><img src=\"https://colab.research.google.com/assets/colab-badge.svg\" alt=\"Open In Colab\"/></a>"
      ]
    },
    {
      "cell_type": "code",
      "execution_count": null,
      "metadata": {
        "colab": {
          "base_uri": "https://localhost:8080/"
        },
        "id": "7kwCSmxRVUuK",
        "outputId": "c1ccdcc9-4104-45cc-8efe-cae9da34c34a"
      },
      "outputs": [
        {
          "name": "stdout",
          "output_type": "stream",
          "text": [
            "\n",
            "Welcome to Game\n",
            "\n",
            "Enter your name:  Hishita\n",
            "Hello, Hishita!! Good Luck.\n",
            "\n",
            "\n",
            "Lets start the Game\n"
          ]
        }
      ],
      "source": [
        "import random\n",
        "import time\n",
        "\n",
        "print(\"\\nWelcome to Game\\n\")\n",
        "name= input(\"Enter your name:  \")\n",
        "print(\"Hello, \"+name+\"!! Good Luck.\\n\")\n",
        "time.sleep(2)\n",
        "print(\"\\nLets start the Game\")\n",
        "time.sleep(3)"
      ]
    },
    {
      "cell_type": "code",
      "execution_count": null,
      "metadata": {
        "id": "VicEAnjuV4af"
      },
      "outputs": [],
      "source": [
        "def main():\n",
        "  global count \n",
        "  global display\n",
        "  global word\n",
        "  global already_guessed\n",
        "  global length\n",
        "  global play_game\n",
        "  words_to_guess= [\"january\",\"anxiety\",\"black\",\"beagle\",\"frown\",\"angry\"]\n",
        "  word=random.choice(words_to_guess)\n",
        "  length=len(word)\n",
        "  count=0\n",
        "  display= '_'* length\n",
        "  already_guessed= []\n",
        "  play_game= \"\"\n",
        "\n",
        "\n"
      ]
    },
    {
      "cell_type": "code",
      "execution_count": null,
      "metadata": {
        "id": "8JMQ3-eS_IL8"
      },
      "outputs": [],
      "source": [
        "def play_loop():\n",
        "  global play_game\n",
        "  play_game= input(\"Do you want to play? y=yes, n=no\")\n",
        "  while play_game not in [\"y\",\"Y\",\"n\",\"N\"]:\n",
        "    play_game= input(\"Do you want to play game again? y=yes, n=no\")\n",
        "\n",
        "  if play_game == \"y\":\n",
        "     main()\n",
        "  elif play_game ==\"n\":\n",
        "      print(\"Thank you for playing the game!!! \")\n",
        "      exit()\n"
      ]
    },
    {
      "cell_type": "code",
      "execution_count": null,
      "metadata": {
        "colab": {
          "background_save": true,
          "base_uri": "https://localhost:8080/"
        },
        "id": "oB2iS6B8Dguh",
        "outputId": "3e8e0e01-700b-4fac-f996-a99b83fc2d59"
      },
      "outputs": [
        {
          "name": "stdout",
          "output_type": "stream",
          "text": [
            "__a__\n",
            "\n",
            "b_a__\n",
            "\n",
            "Invalid input, Try a letter\n",
            "\n"
          ]
        },
        {
          "ename": "KeyboardInterrupt",
          "evalue": "ignored",
          "output_type": "error",
          "traceback": [
            "\u001b[0;31m---------------------------------------------------------------------------\u001b[0m",
            "\u001b[0;31mKeyboardInterrupt\u001b[0m                         Traceback (most recent call last)",
            "\u001b[0;32m<ipython-input-7-18d36074d1fc>\u001b[0m in \u001b[0;36m<module>\u001b[0;34m\u001b[0m\n\u001b[1;32m     93\u001b[0m       \u001b[0mhangman\u001b[0m\u001b[0;34m(\u001b[0m\u001b[0;34m)\u001b[0m\u001b[0;34m\u001b[0m\u001b[0;34m\u001b[0m\u001b[0m\n\u001b[1;32m     94\u001b[0m \u001b[0mmain\u001b[0m\u001b[0;34m(\u001b[0m\u001b[0;34m)\u001b[0m\u001b[0;34m\u001b[0m\u001b[0;34m\u001b[0m\u001b[0m\n\u001b[0;32m---> 95\u001b[0;31m \u001b[0mhangman\u001b[0m\u001b[0;34m(\u001b[0m\u001b[0;34m)\u001b[0m\u001b[0;34m\u001b[0m\u001b[0;34m\u001b[0m\u001b[0m\n\u001b[0m\u001b[1;32m     96\u001b[0m \u001b[0;34m\u001b[0m\u001b[0m\n\u001b[1;32m     97\u001b[0m \u001b[0;34m\u001b[0m\u001b[0m\n",
            "\u001b[0;32m<ipython-input-7-18d36074d1fc>\u001b[0m in \u001b[0;36mhangman\u001b[0;34m()\u001b[0m\n\u001b[1;32m     91\u001b[0m \u001b[0;34m\u001b[0m\u001b[0m\n\u001b[1;32m     92\u001b[0m     \u001b[0;32melif\u001b[0m \u001b[0mcount\u001b[0m\u001b[0;34m!=\u001b[0m\u001b[0mlimit\u001b[0m\u001b[0;34m:\u001b[0m\u001b[0;34m\u001b[0m\u001b[0;34m\u001b[0m\u001b[0m\n\u001b[0;32m---> 93\u001b[0;31m       \u001b[0mhangman\u001b[0m\u001b[0;34m(\u001b[0m\u001b[0;34m)\u001b[0m\u001b[0;34m\u001b[0m\u001b[0;34m\u001b[0m\u001b[0m\n\u001b[0m\u001b[1;32m     94\u001b[0m \u001b[0mmain\u001b[0m\u001b[0;34m(\u001b[0m\u001b[0;34m)\u001b[0m\u001b[0;34m\u001b[0m\u001b[0;34m\u001b[0m\u001b[0m\n\u001b[1;32m     95\u001b[0m \u001b[0mhangman\u001b[0m\u001b[0;34m(\u001b[0m\u001b[0;34m)\u001b[0m\u001b[0;34m\u001b[0m\u001b[0;34m\u001b[0m\u001b[0m\n",
            "\u001b[0;32m<ipython-input-7-18d36074d1fc>\u001b[0m in \u001b[0;36mhangman\u001b[0;34m()\u001b[0m\n\u001b[1;32m     91\u001b[0m \u001b[0;34m\u001b[0m\u001b[0m\n\u001b[1;32m     92\u001b[0m     \u001b[0;32melif\u001b[0m \u001b[0mcount\u001b[0m\u001b[0;34m!=\u001b[0m\u001b[0mlimit\u001b[0m\u001b[0;34m:\u001b[0m\u001b[0;34m\u001b[0m\u001b[0;34m\u001b[0m\u001b[0m\n\u001b[0;32m---> 93\u001b[0;31m       \u001b[0mhangman\u001b[0m\u001b[0;34m(\u001b[0m\u001b[0;34m)\u001b[0m\u001b[0;34m\u001b[0m\u001b[0;34m\u001b[0m\u001b[0m\n\u001b[0m\u001b[1;32m     94\u001b[0m \u001b[0mmain\u001b[0m\u001b[0;34m(\u001b[0m\u001b[0;34m)\u001b[0m\u001b[0;34m\u001b[0m\u001b[0;34m\u001b[0m\u001b[0m\n\u001b[1;32m     95\u001b[0m \u001b[0mhangman\u001b[0m\u001b[0;34m(\u001b[0m\u001b[0;34m)\u001b[0m\u001b[0;34m\u001b[0m\u001b[0;34m\u001b[0m\u001b[0m\n",
            "\u001b[0;32m<ipython-input-7-18d36074d1fc>\u001b[0m in \u001b[0;36mhangman\u001b[0;34m()\u001b[0m\n\u001b[1;32m     10\u001b[0m     \u001b[0;32mif\u001b[0m \u001b[0mlen\u001b[0m\u001b[0;34m(\u001b[0m\u001b[0mguess\u001b[0m\u001b[0;34m.\u001b[0m\u001b[0mstrip\u001b[0m\u001b[0;34m(\u001b[0m\u001b[0;34m)\u001b[0m\u001b[0;34m)\u001b[0m\u001b[0;34m==\u001b[0m\u001b[0;36m0\u001b[0m \u001b[0;32mor\u001b[0m \u001b[0mlen\u001b[0m\u001b[0;34m(\u001b[0m\u001b[0mguess\u001b[0m\u001b[0;34m.\u001b[0m\u001b[0mstrip\u001b[0m\u001b[0;34m(\u001b[0m\u001b[0;34m)\u001b[0m\u001b[0;34m)\u001b[0m\u001b[0;34m>=\u001b[0m\u001b[0;36m2\u001b[0m \u001b[0;32mor\u001b[0m \u001b[0mguess\u001b[0m\u001b[0;34m<=\u001b[0m\u001b[0;34m\"9\"\u001b[0m\u001b[0;34m:\u001b[0m\u001b[0;34m\u001b[0m\u001b[0;34m\u001b[0m\u001b[0m\n\u001b[1;32m     11\u001b[0m       \u001b[0mprint\u001b[0m\u001b[0;34m(\u001b[0m\u001b[0;34m\"Invalid input, Try a letter\\n\"\u001b[0m\u001b[0;34m)\u001b[0m\u001b[0;34m\u001b[0m\u001b[0;34m\u001b[0m\u001b[0m\n\u001b[0;32m---> 12\u001b[0;31m       \u001b[0mhangman\u001b[0m\u001b[0;34m(\u001b[0m\u001b[0;34m)\u001b[0m\u001b[0;34m\u001b[0m\u001b[0;34m\u001b[0m\u001b[0m\n\u001b[0m\u001b[1;32m     13\u001b[0m     \u001b[0;32melif\u001b[0m \u001b[0mguess\u001b[0m \u001b[0;32min\u001b[0m \u001b[0mword\u001b[0m\u001b[0;34m:\u001b[0m\u001b[0;34m\u001b[0m\u001b[0;34m\u001b[0m\u001b[0m\n\u001b[1;32m     14\u001b[0m       \u001b[0malready_guessed\u001b[0m\u001b[0;34m.\u001b[0m\u001b[0mextend\u001b[0m\u001b[0;34m(\u001b[0m\u001b[0;34m[\u001b[0m\u001b[0mguess\u001b[0m\u001b[0;34m]\u001b[0m\u001b[0;34m)\u001b[0m\u001b[0;34m\u001b[0m\u001b[0;34m\u001b[0m\u001b[0m\n",
            "\u001b[0;32m<ipython-input-7-18d36074d1fc>\u001b[0m in \u001b[0;36mhangman\u001b[0;34m()\u001b[0m\n\u001b[1;32m      6\u001b[0m     \u001b[0;32mglobal\u001b[0m \u001b[0mplay_game\u001b[0m\u001b[0;34m\u001b[0m\u001b[0;34m\u001b[0m\u001b[0m\n\u001b[1;32m      7\u001b[0m     \u001b[0mlimit\u001b[0m\u001b[0;34m=\u001b[0m\u001b[0;36m5\u001b[0m\u001b[0;34m\u001b[0m\u001b[0;34m\u001b[0m\u001b[0m\n\u001b[0;32m----> 8\u001b[0;31m     \u001b[0mguess\u001b[0m\u001b[0;34m=\u001b[0m\u001b[0minput\u001b[0m\u001b[0;34m(\u001b[0m\u001b[0;34m\"Guess this word: \"\u001b[0m\u001b[0;34m+\u001b[0m\u001b[0mdisplay\u001b[0m\u001b[0;34m+\u001b[0m\u001b[0;34m\"Enter your guess \\n\"\u001b[0m\u001b[0;34m)\u001b[0m\u001b[0;34m\u001b[0m\u001b[0;34m\u001b[0m\u001b[0m\n\u001b[0m\u001b[1;32m      9\u001b[0m     \u001b[0mguess\u001b[0m\u001b[0;34m=\u001b[0m\u001b[0mguess\u001b[0m\u001b[0;34m.\u001b[0m\u001b[0mstrip\u001b[0m\u001b[0;34m(\u001b[0m\u001b[0;34m)\u001b[0m\u001b[0;34m\u001b[0m\u001b[0;34m\u001b[0m\u001b[0m\n\u001b[1;32m     10\u001b[0m     \u001b[0;32mif\u001b[0m \u001b[0mlen\u001b[0m\u001b[0;34m(\u001b[0m\u001b[0mguess\u001b[0m\u001b[0;34m.\u001b[0m\u001b[0mstrip\u001b[0m\u001b[0;34m(\u001b[0m\u001b[0;34m)\u001b[0m\u001b[0;34m)\u001b[0m\u001b[0;34m==\u001b[0m\u001b[0;36m0\u001b[0m \u001b[0;32mor\u001b[0m \u001b[0mlen\u001b[0m\u001b[0;34m(\u001b[0m\u001b[0mguess\u001b[0m\u001b[0;34m.\u001b[0m\u001b[0mstrip\u001b[0m\u001b[0;34m(\u001b[0m\u001b[0;34m)\u001b[0m\u001b[0;34m)\u001b[0m\u001b[0;34m>=\u001b[0m\u001b[0;36m2\u001b[0m \u001b[0;32mor\u001b[0m \u001b[0mguess\u001b[0m\u001b[0;34m<=\u001b[0m\u001b[0;34m\"9\"\u001b[0m\u001b[0;34m:\u001b[0m\u001b[0;34m\u001b[0m\u001b[0;34m\u001b[0m\u001b[0m\n",
            "\u001b[0;32m/usr/local/lib/python3.8/dist-packages/ipykernel/kernelbase.py\u001b[0m in \u001b[0;36mraw_input\u001b[0;34m(self, prompt)\u001b[0m\n\u001b[1;32m    858\u001b[0m                 \u001b[0;34m\"raw_input was called, but this frontend does not support input requests.\"\u001b[0m\u001b[0;34m\u001b[0m\u001b[0;34m\u001b[0m\u001b[0m\n\u001b[1;32m    859\u001b[0m             )\n\u001b[0;32m--> 860\u001b[0;31m         return self._input_request(str(prompt),\n\u001b[0m\u001b[1;32m    861\u001b[0m             \u001b[0mself\u001b[0m\u001b[0;34m.\u001b[0m\u001b[0m_parent_ident\u001b[0m\u001b[0;34m,\u001b[0m\u001b[0;34m\u001b[0m\u001b[0;34m\u001b[0m\u001b[0m\n\u001b[1;32m    862\u001b[0m             \u001b[0mself\u001b[0m\u001b[0;34m.\u001b[0m\u001b[0m_parent_header\u001b[0m\u001b[0;34m,\u001b[0m\u001b[0;34m\u001b[0m\u001b[0;34m\u001b[0m\u001b[0m\n",
            "\u001b[0;32m/usr/local/lib/python3.8/dist-packages/ipykernel/kernelbase.py\u001b[0m in \u001b[0;36m_input_request\u001b[0;34m(self, prompt, ident, parent, password)\u001b[0m\n\u001b[1;32m    902\u001b[0m             \u001b[0;32mexcept\u001b[0m \u001b[0mKeyboardInterrupt\u001b[0m\u001b[0;34m:\u001b[0m\u001b[0;34m\u001b[0m\u001b[0;34m\u001b[0m\u001b[0m\n\u001b[1;32m    903\u001b[0m                 \u001b[0;31m# re-raise KeyboardInterrupt, to truncate traceback\u001b[0m\u001b[0;34m\u001b[0m\u001b[0;34m\u001b[0m\u001b[0;34m\u001b[0m\u001b[0m\n\u001b[0;32m--> 904\u001b[0;31m                 \u001b[0;32mraise\u001b[0m \u001b[0mKeyboardInterrupt\u001b[0m\u001b[0;34m(\u001b[0m\u001b[0;34m\"Interrupted by user\"\u001b[0m\u001b[0;34m)\u001b[0m \u001b[0;32mfrom\u001b[0m \u001b[0;32mNone\u001b[0m\u001b[0;34m\u001b[0m\u001b[0;34m\u001b[0m\u001b[0m\n\u001b[0m\u001b[1;32m    905\u001b[0m             \u001b[0;32mexcept\u001b[0m \u001b[0mException\u001b[0m \u001b[0;32mas\u001b[0m \u001b[0me\u001b[0m\u001b[0;34m:\u001b[0m\u001b[0;34m\u001b[0m\u001b[0;34m\u001b[0m\u001b[0m\n\u001b[1;32m    906\u001b[0m                 \u001b[0mself\u001b[0m\u001b[0;34m.\u001b[0m\u001b[0mlog\u001b[0m\u001b[0;34m.\u001b[0m\u001b[0mwarning\u001b[0m\u001b[0;34m(\u001b[0m\u001b[0;34m\"Invalid Message:\"\u001b[0m\u001b[0;34m,\u001b[0m \u001b[0mexc_info\u001b[0m\u001b[0;34m=\u001b[0m\u001b[0;32mTrue\u001b[0m\u001b[0;34m)\u001b[0m\u001b[0;34m\u001b[0m\u001b[0;34m\u001b[0m\u001b[0m\n",
            "\u001b[0;31mKeyboardInterrupt\u001b[0m: Interrupted by user"
          ]
        }
      ],
      "source": [
        "def hangman():\n",
        "    global count\n",
        "    global display\n",
        "    global word\n",
        "    global already_guessed\n",
        "    global play_game\n",
        "    limit=5\n",
        "    guess=input(\"Guess this word: \"+display+\"Enter your guess \\n\")\n",
        "    guess=guess.strip()\n",
        "    if len(guess.strip())==0 or len(guess.strip())>=2 or guess<=\"9\":\n",
        "      print(\"Invalid input, Try a letter\\n\")\n",
        "      hangman()\n",
        "    elif guess in word:\n",
        "      already_guessed.extend([guess])\n",
        "      index=word.find(guess)\n",
        "      word=word[:index]+\"_\"+word[index+1:]\n",
        "      display=display[:index]+guess+display[index+1:]\n",
        "      print(display+\"\\n\")\n",
        "\n",
        "    elif guess in already_guessed:\n",
        "      print(\"Try another letter.\\n\")\n",
        "\n",
        "    else:\n",
        "      count+=1\n",
        "\n",
        "      if count==1:\n",
        "       time.sleep(1)\n",
        "       print(\"   _____ \\n\"\n",
        "             \"  |      \\n\"\n",
        "             \"  |      \\n\"\n",
        "             \"  |      \\n\"\n",
        "             \"  |      \\n\"\n",
        "             \"  |      \\n\"\n",
        "             \"  |      \\n\"\n",
        "             \"__|__\\n\") \n",
        "       print(\"Wrong guess \"+str(limit-count)+\" are left \\n\")\n",
        "\n",
        "      elif count==2:\n",
        "         time.sleep(1)\n",
        "         print(\"   _____ \\n\"\n",
        "                \"  |      \\n\"\n",
        "                \"  |      \\n\"\n",
        "                \"  |      \\n\"\n",
        "                \"  |      \\n\"\n",
        "                \"  |      \\n\"\n",
        "                \"  |      \\n\"\n",
        "                \"__|__\\n\")\n",
        "         print(\"Wrong guess \"+str(limit-count)+\" are left \\n\")\n",
        "\n",
        "      elif count==3:\n",
        "        time.sleep(1)\n",
        "        print(\"   _____ \\n\"\n",
        "                \"  |      \\n\"\n",
        "                \"  |      \\n\"\n",
        "                \"  |      \\n\"\n",
        "                \"  |      \\n\"\n",
        "                \"  |      \\n\"\n",
        "                \"  |      \\n\"\n",
        "                \"__|__\\n\")\n",
        "        print(\"Wrong guess \"+str(limit-count)+\" are left \\n\")\n",
        "\n",
        "      elif count==4:\n",
        "          time.sleep(1)\n",
        "          print(\"   _____ \\n\"\n",
        "                 \"  |      \\n\"\n",
        "                 \"  |      \\n\"\n",
        "                 \"  |      \\n\"\n",
        "                 \"  |      \\n\"\n",
        "                 \"  |      \\n\"\n",
        "                 \"  |      \\n\"\n",
        "                 \"__|__\\n\")\n",
        "          print(\"Wrong guess \"+str(limit-count)+\" are left \\n\")\n",
        "\n",
        "      elif count==5:\n",
        "       time.sleep(1)\n",
        "       print(\"   _____ \\n\"\n",
        "                 \"  |   ___|\\n\"\n",
        "                 \"  |    | |\\n\"\n",
        "                 \"  |    | |\\n\"\n",
        "                 \"  |    O |\\n\"\n",
        "                 \"  |   /|\\ |\\n\"\n",
        "                 \"  |    |  |\\n\"\n",
        "                 \"__|__ / \\ \\n\")\n",
        "       print(\"You guessed the wrong word\"+\"You have been hanged\\n\")\n",
        "       print(\"The word was\",already_guessed,word)\n",
        "       play_loop()\n",
        "\n",
        "    if word==\"_\"*length:\n",
        "      print(\"You have guessed the word correctly \")\n",
        "      play_loop()\n",
        "\n",
        "    elif count!=limit:\n",
        "      hangman()\n",
        "main()\n",
        "hangman()\n",
        "\n",
        "\n",
        "               \n",
        "\n"
      ]
    },
    {
      "cell_type": "code",
      "execution_count": null,
      "metadata": {
        "id": "OspoAoxUb-2j"
      },
      "outputs": [],
      "source": []
    },
    {
      "cell_type": "code",
      "execution_count": null,
      "metadata": {
        "id": "xXBOXFWby4Id"
      },
      "outputs": [],
      "source": []
    }
  ],
  "metadata": {
    "colab": {
      "provenance": [],
      "authorship_tag": "ABX9TyPWdToq++Y8VpRBlXaXgy3p",
      "include_colab_link": true
    },
    "kernelspec": {
      "display_name": "Python 3",
      "name": "python3"
    },
    "language_info": {
      "name": "python"
    }
  },
  "nbformat": 4,
  "nbformat_minor": 0
}